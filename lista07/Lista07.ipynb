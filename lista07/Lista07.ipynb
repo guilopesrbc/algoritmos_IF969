{
 "cells": [
  {
   "cell_type": "markdown",
   "id": "42c46672",
   "metadata": {},
   "source": [
    "# Questão 1"
   ]
  },
  {
   "cell_type": "markdown",
   "id": "db439bc2",
   "metadata": {},
   "source": [
    "<img src=\"lista_7_imagens/questao_a.png\"/>"
   ]
  },
  {
   "cell_type": "code",
   "execution_count": null,
   "id": "3346d28a",
   "metadata": {},
   "outputs": [],
   "source": [
    "class Backtracking:\n",
    "    def __init__(self, n):\n",
    "        self.size = n # número de pessoas\n",
    "        self.res = [] # lista para armazenar as possibilidades\n",
    "        self.seats(n, []) # função dos assentos\n",
    "        print(f'Uma sessão com {n} pessoas pode ter sua audiência nos seguintes subgrupos:')\n",
    "        for i in self.res:\n",
    "            print(i)\n",
    "\n",
    "    def seats(self, diff, temp): # diff = diferença entre o número pessoas e pessoas que já estão sentadas\n",
    "        if len(temp) > 0 and temp[0] == self.size: # caso base, chegou na lista [n]\n",
    "            self.res.append(temp[:])\n",
    "            return self.res\n",
    "        if diff == 0 and temp not in self.res and temp != []: # caso não sobre nenhuma pessoa, adiciona\n",
    "            self.res.append(temp[:])\n",
    "\n",
    "        for i in range(1, diff + 1): # vai adicionando os numeros na lista de forma recursiva\n",
    "            if len(temp) >= 1 and i < temp[-1]: # verifica se o numero atual para ser adicionado vai ser colocado de forma crescente\n",
    "                pass\n",
    "            else: # caso esteja crescente adiciona o numero e chama para adicionar o proximo\n",
    "                temp.append(i)\n",
    "                self.seats(diff - i, temp)\n",
    "                temp.pop(-1) # função volta e adiciona o proximo numero do for se ainda for possivel\n",
    "n = int(input())\n",
    "backtracking = Backtracking(n)\n"
   ]
  },
  {
   "cell_type": "markdown",
   "id": "e45f7c8a",
   "metadata": {},
   "source": [
    "# Questão 2"
   ]
  },
  {
   "cell_type": "markdown",
   "id": "4fee906c",
   "metadata": {},
   "source": [
    "<img src=\"lista_7_imagens/questao_b.png\"/>\n",
    "<img src=\"lista_7_imagens/questao_b2.png\"/>\n"
   ]
  },
  {
   "cell_type": "code",
   "execution_count": null,
   "id": "4ed87f52",
   "metadata": {},
   "outputs": [],
   "source": [
    "num = int(input())\n",
    "fans_list = list(map(int, input().split()))\n",
    "sum = 0\n",
    "cost = {}\n",
    "for j in range(num): # dicionario para salvar o maior \"custo\" até aquele setor, maneira que achei de usar programação dinamica e buscar O(1) os custos\n",
    "    cost[j] = fans_list[j]\n",
    "\n",
    "for i in range(1, len(fans_list)):\n",
    "    if i == 1: # caso base, so tem 2 setores, vai ser o maior entre eles\n",
    "        cost[i] = max(cost[i], cost[i-1])\n",
    "        sum = cost[i] # salva na variavel soma o maior valor entre esses setores\n",
    "    else:\n",
    "        cost[i] = max(cost[i] + cost[i-2], cost[i-1]) # casos normais, compara se o custo até aquele setor é maior que o custo do setor anterior\n",
    "        sum = cost[i]\n",
    "\n",
    "print(sum, \"torcedores podem ser fotografados.\")"
   ]
  }
 ],
 "metadata": {
  "kernelspec": {
   "display_name": "Python 3 (ipykernel)",
   "language": "python",
   "name": "python3"
  },
  "language_info": {
   "codemirror_mode": {
    "name": "ipython",
    "version": 3
   },
   "file_extension": ".py",
   "mimetype": "text/x-python",
   "name": "python",
   "nbconvert_exporter": "python",
   "pygments_lexer": "ipython3",
   "version": "3.10.5"
  }
 },
 "nbformat": 4,
 "nbformat_minor": 5
}
